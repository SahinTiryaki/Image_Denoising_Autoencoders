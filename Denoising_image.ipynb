{
  "nbformat": 4,
  "nbformat_minor": 0,
  "metadata": {
    "colab": {
      "name": "Denoising_image.ipynb",
      "provenance": [],
      "collapsed_sections": []
    },
    "kernelspec": {
      "name": "python3",
      "display_name": "Python 3"
    },
    "language_info": {
      "name": "python"
    },
    "accelerator": "GPU"
  },
  "cells": [
    {
      "cell_type": "markdown",
      "metadata": {
        "id": "VRLqor3nM3ZV"
      },
      "source": [
        "## Gpu"
      ]
    },
    {
      "cell_type": "code",
      "metadata": {
        "colab": {
          "base_uri": "https://localhost:8080/"
        },
        "id": "HkGCPcK-zupv",
        "outputId": "2be02b69-ed1b-4278-cc51-0144009a2053"
      },
      "source": [
        "from google.colab import drive\n",
        "drive.mount(\"/content/gdrive\")"
      ],
      "execution_count": 11,
      "outputs": [
        {
          "output_type": "stream",
          "text": [
            "Drive already mounted at /content/gdrive; to attempt to forcibly remount, call drive.mount(\"/content/gdrive\", force_remount=True).\n"
          ],
          "name": "stdout"
        }
      ]
    },
    {
      "cell_type": "markdown",
      "metadata": {
        "id": "dumF-DMxMr0c"
      },
      "source": [
        "## Libraries"
      ]
    },
    {
      "cell_type": "code",
      "metadata": {
        "id": "7AfaIVy9TX24"
      },
      "source": [
        "import torch\n",
        "import torchvision # vision operations\n",
        "import torch.optim as optim # optimizer\n",
        "import torch.nn.functional as F # functions\n",
        "import numpy as np # linear algebra\n",
        "import torch.nn as nn # Convolutionals layers and other operations \n",
        "from torchvision import transforms # transform image\n",
        "from  torchvision.datasets import MNIST # dataset\n",
        "import matplotlib.pyplot as plt # vizualization\n",
        "import os \n",
        "from torchvision.utils import save_image # save image from  output\n",
        "from warnings import filterwarnings \n",
        "filterwarnings(\"ignore\")"
      ],
      "execution_count": 12,
      "outputs": []
    },
    {
      "cell_type": "markdown",
      "metadata": {
        "id": "U0962JA6M--9"
      },
      "source": [
        "## Constants"
      ]
    },
    {
      "cell_type": "code",
      "metadata": {
        "id": "wT_NTLF7jaSo"
      },
      "source": [
        "NUM_EPOCHS = 20\n",
        "LEARNING_RATE = 1e-3\n",
        "BATCH_SIZE = 16\n",
        "NOISE_FACTOR = 0.5"
      ],
      "execution_count": 13,
      "outputs": []
    },
    {
      "cell_type": "markdown",
      "metadata": {
        "id": "z58UU6RTNG8b"
      },
      "source": [
        "## Get data"
      ]
    },
    {
      "cell_type": "code",
      "metadata": {
        "id": "WyUdhAxZV68k"
      },
      "source": [
        "train_loader = torch.utils.data.DataLoader(\n",
        "    MNIST(root = \"./dataset\", train=True, download = True, \n",
        "    transform  = transforms.Compose([transforms.ToTensor(),transforms.Normalize((0.5,),(0.5,))])\n",
        "    ),batch_size = BATCH_SIZE, shuffle = True\n",
        ")\n",
        "test_loader = torch.utils.data.DataLoader(\n",
        "    MNIST(root = \"./dataset\", train=False, download = True, \n",
        "    transform  = transforms.Compose([transforms.ToTensor(),transforms.Normalize((0.5,),(0.5,))])\n",
        "    ),batch_size = BATCH_SIZE, shuffle = True\n",
        ")"
      ],
      "execution_count": 14,
      "outputs": []
    },
    {
      "cell_type": "code",
      "metadata": {
        "id": "U0a0XzVtV65s",
        "colab": {
          "base_uri": "https://localhost:8080/",
          "height": 303
        },
        "outputId": "d4fb3c7c-ad5b-4a7a-db26-ed5867356a17"
      },
      "source": [
        "for data  in train_loader:\n",
        "    images, _ = data\n",
        "    print(images.shape)\n",
        "    print(images[0,:,:,:].max())\n",
        "    print(images[0,:,:,:].min())\n",
        "    plt.imshow(images[0,0,:,:],cmap = plt.cm.gray)\n",
        "    plt.xticks([])\n",
        "    plt.yticks([])\n",
        "    break\n",
        "plt.show()"
      ],
      "execution_count": 15,
      "outputs": [
        {
          "output_type": "stream",
          "text": [
            "torch.Size([16, 1, 28, 28])\n",
            "tensor(1.)\n",
            "tensor(-1.)\n"
          ],
          "name": "stdout"
        },
        {
          "output_type": "display_data",
          "data": {
            "image/png": "[encoded data removed]",
            "text/plain": [
              "<Figure size 432x288 with 1 Axes>"
            ]
          },
          "metadata": {
            "tags": []
          }
        }
      ]
    },
    {
      "cell_type": "code",
      "metadata": {
        "id": "LiTGHsddjsr4"
      },
      "source": [
        "def get_device():\n",
        "    if torch.cuda.is_available():\n",
        "        device = 'cuda'\n",
        "    else:\n",
        "        device = 'cpu'\n",
        "    return device\n",
        "# create folder\n",
        "def make_dir():\n",
        "    image_dir = 'Saved_Images'\n",
        "    if not os.path.exists(image_dir):\n",
        "        os.makedirs(image_dir)\n",
        "# save output and input images\n",
        "def save_decoded_image(img, name):\n",
        "    img = img.view(img.size(0), 1, 28, 28)\n",
        "    save_image(img, name)"
      ],
      "execution_count": 16,
      "outputs": []
    },
    {
      "cell_type": "markdown",
      "metadata": {
        "id": "9okEauIVNQXW"
      },
      "source": [
        "## Autoencoder Model"
      ]
    },
    {
      "cell_type": "code",
      "metadata": {
        "id": "tHKVVy7aIVRX",
        "colab": {
          "base_uri": "https://localhost:8080/"
        },
        "outputId": "376155ac-be55-4724-9063-1306bfbdc9b4"
      },
      "source": [
        "class Autoencoder(nn.Module):\n",
        "    def __init__(self):\n",
        "        super(Autoencoder, self).__init__()\n",
        "        # encoder layers\n",
        "        self.enc1 = nn.Conv2d(1, 512, kernel_size=3, padding=1)\n",
        "        self.enc2 = nn.Conv2d(512, 256, kernel_size=3, padding=1)\n",
        "        self.enc3 = nn.Conv2d(256, 56, kernel_size=3, padding=1)\n",
        "        self.enc4 = nn.Conv2d(56, 8, kernel_size=3, padding=1)\n",
        "        self.pool = nn.MaxPool2d(2, 2)\n",
        "        \n",
        "        # decoder layers\n",
        "        self.dec1 = nn.ConvTranspose2d(8, 8, kernel_size=3, stride=2)  \n",
        "        self.dec2 = nn.ConvTranspose2d(8, 56, kernel_size=3, stride=2)\n",
        "        self.dec3 = nn.ConvTranspose2d(56, 256, kernel_size=2, stride=2)\n",
        "        self.dec4 = nn.ConvTranspose2d(256, 512, kernel_size=2, stride=2)\n",
        "        self.out = nn.Conv2d(512, 1, kernel_size=3, padding=1)\n",
        "    def forward(self, x):\n",
        "        # encode\n",
        "        x = F.relu(self.enc1(x))\n",
        "        x = self.pool(x)\n",
        "        x = F.relu(self.enc2(x))\n",
        "        x = self.pool(x)\n",
        "        x = F.relu(self.enc3(x))\n",
        "        x = self.pool(x)\n",
        "        x = F.relu(self.enc4(x))\n",
        "        x = self.pool(x) # the latent space representation\n",
        "        \n",
        "        # decode\n",
        "        x = F.leaky_relu(self.dec1(x))\n",
        "        x = F.leaky_relu(self.dec2(x))\n",
        "        x = F.leaky_relu(self.dec3(x))\n",
        "        x = F.leaky_relu(self.dec4(x))\n",
        "        x = F.sigmoid(self.out(x))\n",
        "        return x\n",
        "net = Autoencoder()\n",
        "print(net)\n"
      ],
      "execution_count": 17,
      "outputs": [
        {
          "output_type": "stream",
          "text": [
            "Autoencoder(\n",
            "  (enc1): Conv2d(1, 512, kernel_size=(3, 3), stride=(1, 1), padding=(1, 1))\n",
            "  (enc2): Conv2d(512, 256, kernel_size=(3, 3), stride=(1, 1), padding=(1, 1))\n",
            "  (enc3): Conv2d(256, 56, kernel_size=(3, 3), stride=(1, 1), padding=(1, 1))\n",
            "  (enc4): Conv2d(56, 8, kernel_size=(3, 3), stride=(1, 1), padding=(1, 1))\n",
            "  (pool): MaxPool2d(kernel_size=2, stride=2, padding=0, dilation=1, ceil_mode=False)\n",
            "  (dec1): ConvTranspose2d(8, 8, kernel_size=(3, 3), stride=(2, 2))\n",
            "  (dec2): ConvTranspose2d(8, 56, kernel_size=(3, 3), stride=(2, 2))\n",
            "  (dec3): ConvTranspose2d(56, 256, kernel_size=(2, 2), stride=(2, 2))\n",
            "  (dec4): ConvTranspose2d(256, 512, kernel_size=(2, 2), stride=(2, 2))\n",
            "  (out): Conv2d(512, 1, kernel_size=(3, 3), stride=(1, 1), padding=(1, 1))\n",
            ")\n"
          ],
          "name": "stdout"
        }
      ]
    },
    {
      "cell_type": "code",
      "metadata": {
        "id": "PGhMu2-7IaP2"
      },
      "source": [
        "criterion = nn.MSELoss()\n",
        "# the optimizer\n",
        "optimizer = optim.Adam(net.parameters(), LEARNING_RATE)"
      ],
      "execution_count": 18,
      "outputs": []
    },
    {
      "cell_type": "markdown",
      "metadata": {
        "id": "rRUaOwQENT5a"
      },
      "source": [
        "## Train"
      ]
    },
    {
      "cell_type": "code",
      "metadata": {
        "id": "3uSlCuEAIWe1"
      },
      "source": [
        "def train(net, trainloader, NUM_EPOCHS):\n",
        "    train_loss = []\n",
        "    for epoch in range(NUM_EPOCHS):\n",
        "        running_loss = 0.0\n",
        "        for data in trainloader:\n",
        "            img, _ = data \n",
        "            # we do not need the image labels\n",
        "            # add noise to the image data\n",
        "            img_noisy = img + NOISE_FACTOR * torch.randn(img.shape)\n",
        "            # clip to make the values fall between 0 and 1\n",
        "            img_noisy = np.clip(img_noisy, 0., 1.)\n",
        "            img_noisy = img_noisy.to(device)\n",
        "            optimizer.zero_grad()\n",
        "            outputs = net(img_noisy)\n",
        "            loss = criterion(outputs, img_noisy)\n",
        "            # backpropagation\n",
        "            loss.backward()\n",
        "            # update the parameters\n",
        "            optimizer.step()\n",
        "            running_loss += loss.item()\n",
        "        loss = running_loss / len(trainloader)\n",
        "        train_loss.append(loss)\n",
        "        print('Epoch {} of {}, Train Loss: {:.3f}'.format(\n",
        "            epoch+1, NUM_EPOCHS, loss))\n",
        "\n",
        "        save_decoded_image(img_noisy.cpu().data, name='./Saved_Images/noisy{}.png'.format(epoch))\n",
        "        save_decoded_image(outputs.cpu().data, name='./Saved_Images/denoised{}.png'.format(epoch))\n",
        "\n",
        "    return train_loss"
      ],
      "execution_count": 19,
      "outputs": []
    },
    {
      "cell_type": "code",
      "metadata": {
        "id": "NBWauR_4Jb7m",
        "colab": {
          "base_uri": "https://localhost:8080/",
          "height": 465
        },
        "outputId": "4959976e-ba55-48bc-d4c8-c07229c4a89b"
      },
      "source": [
        "device = get_device()\n",
        "net.to(device)\n",
        "make_dir()\n",
        "train_loss = train(net, train_loader, 10)\n",
        "plt.figure()\n",
        "plt.plot(train_loss)\n",
        "plt.title('Train Loss')\n",
        "plt.xlabel('Epochs')\n",
        "plt.ylabel('Loss')\n",
        "plt.savefig('./Saved_Images/loss.png')"
      ],
      "execution_count": 20,
      "outputs": [
        {
          "output_type": "stream",
          "text": [
            "Epoch 1 of 10, Train Loss: 0.045\n",
            "Epoch 2 of 10, Train Loss: 0.040\n",
            "Epoch 3 of 10, Train Loss: 0.039\n",
            "Epoch 4 of 10, Train Loss: 0.038\n",
            "Epoch 5 of 10, Train Loss: 0.038\n",
            "Epoch 6 of 10, Train Loss: 0.038\n",
            "Epoch 7 of 10, Train Loss: 0.037\n",
            "Epoch 8 of 10, Train Loss: 0.037\n",
            "Epoch 9 of 10, Train Loss: 0.037\n",
            "Epoch 10 of 10, Train Loss: 0.037\n"
          ],
          "name": "stdout"
        },
        {
          "output_type": "display_data",
          "data": {
            "image/png": "[encoded data removed]",
            "text/plain": [
              "<Figure size 432x288 with 1 Axes>"
            ]
          },
          "metadata": {
            "tags": [],
            "needs_background": "light"
          }
        }
      ]
    },
    {
      "cell_type": "markdown",
      "metadata": {
        "id": "Ji8QQjiQUyCh"
      },
      "source": [
        "## Test"
      ]
    },
    {
      "cell_type": "code",
      "metadata": {
        "id": "u5xbAsv7Tjmp"
      },
      "source": [
        "def test(net, testloader):\n",
        "     for batch in testloader:\n",
        "        img, _ = batch\n",
        "        img_noisy = img + NOISE_FACTOR * torch.randn(img.shape)\n",
        "        img_noisy = np.clip(img_noisy, 0., 1.)\n",
        "        img_noisy = img_noisy.to(device)\n",
        "        outputs = net(img_noisy)\n",
        "        outputs = outputs.view(outputs.size(0), 1, 28, 28).cpu().data\n",
        "        save_image(img_noisy, 'noisy_test_input.png')\n",
        "        save_image(outputs, 'denoised_test.png')\n",
        "        break"
      ],
      "execution_count": 21,
      "outputs": []
    },
    {
      "cell_type": "code",
      "metadata": {
        "id": "NQtQtg94rDyT"
      },
      "source": [
        "test(net, test_loader)"
      ],
      "execution_count": 22,
      "outputs": []
    },
    {
      "cell_type": "code",
      "metadata": {
        "id": "10M42wxodisJ"
      },
      "source": [
        ""
      ],
      "execution_count": null,
      "outputs": []
    }
  ]
}